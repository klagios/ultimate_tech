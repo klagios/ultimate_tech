{
 "cells": [
  {
   "cell_type": "markdown",
   "id": "dc1133a7-6d4a-419d-a105-13d8da434d0c",
   "metadata": {},
   "source": [
    "## Part 2 ‐ Experiment and metrics design\n",
    "The neighboring cities of Gotham and Metropolis have complementary circadian rhythms: on\n",
    "weekdays, Ultimate Gotham is most active at night, and Ultimate Metropolis is most active\n",
    "during the day. On weekends, there is reasonable activity in both cities.\n",
    "However, a toll bridge, with a two way toll, between the two cities causes driver partners to tend\n",
    "to be exclusive to each city. The Ultimate managers of city operations for the two cities have\n",
    "proposed an experiment to encourage driver partners to be available in both cities, by\n",
    "reimbursing all toll costs.\n",
    "1) What would you choose as the key measure of success of this experiment in\n",
    "encouraging driver partners to serve both cities, and why would you choose this metric?\n",
    "2) Describe a practical experiment you would design to compare the effectiveness of the\n",
    "proposed change in relation to the key measure of success. Please provide details on:\n",
    "\n",
    "a) how you will implement the experiment\n",
    "\n",
    "b) what statistical test(s) you will conduct to verify the significance of the\n",
    "observation\n",
    "\n",
    "c) how you would interpret the results and provide recommendations to the city\n",
    "operations team along with any caveats.\n",
    "\n",
    "Note: The two cities of Gotham and Metropolis are not in the provided dataset; however, you do\n",
    "not need this information to answer Part 2.\n"
   ]
  },
  {
   "cell_type": "markdown",
   "id": "334939d7-b296-4368-8148-3c558970b2b8",
   "metadata": {},
   "source": [
    "1. Currently with drivers only picking up in one city, there is not any diversity in the pick up cities of each driver. In order to gauge whether the toll reimbursement helps increase diversity of pick up cities, the metric that could be used as a key measure of success would be the Shannon Equitability Index that returns a value from 0 to 1 measuring how diverse a sample is. 0 means there is no diversity in the samples, and 1 means each unique value is equally represented. This metric could be performed on the city of pick up for each driver. \n",
    "https://www.statology.org/shannon-diversity-index/"
   ]
  },
  {
   "cell_type": "markdown",
   "id": "69294050-78ae-4dc8-9908-c91f2466fcd6",
   "metadata": {},
   "source": [
    "2. This experiment could be set up as a null hypothesis test. \n",
    "The null hypothesis would be that reimbursing for tolls did not result in drivers being available in both cities. The alternative hypothesis would be that reimbursing for tolls did result in drivers being available in both cities. \n",
    "\n",
    "a. Data would need to be collected on the pick up cities for drivers during the weekends, for a sufficient amount of time/quantity of samples. New data would then have to be collected after the reimbursement program went into effect and the results would have to be compared statistically. Only weekends should be included because due to the circadian rhythms of the two cities, demand is higher in Metropolis during the day and Gotham at night, so it makes sense that drivers exclusively pick up in those cities during those times. \n",
    "\n",
    "b. The statistical test that would be used is calculating the z-statistic and the p-value. Let's say that the mean Shannon Equitability Index for current conditions was 0.27. The H0 is p=0.27 and the HA would be p>0.27. \n",
    "\n",
    "c. If the p-value is lower than, say 0.05, then the null hypothesis would be rejected and the conclusion would be that the reimbursement program increased diversity of the pick ups. If p>=0.05, the null hypothesis would not be rejected, and it would reveal that the reimbursement program had no effect. \n",
    "Depending on how the data is distributed (normally or not normally) different models/tests would have to be used. "
   ]
  }
 ],
 "metadata": {
  "kernelspec": {
   "display_name": "Python 3 (ipykernel)",
   "language": "python",
   "name": "python3"
  },
  "language_info": {
   "codemirror_mode": {
    "name": "ipython",
    "version": 3
   },
   "file_extension": ".py",
   "mimetype": "text/x-python",
   "name": "python",
   "nbconvert_exporter": "python",
   "pygments_lexer": "ipython3",
   "version": "3.11.7"
  }
 },
 "nbformat": 4,
 "nbformat_minor": 5
}
